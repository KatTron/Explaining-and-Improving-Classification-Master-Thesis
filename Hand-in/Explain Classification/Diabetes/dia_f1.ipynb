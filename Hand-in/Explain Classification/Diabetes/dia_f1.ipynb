{
 "cells": [
  {
   "cell_type": "code",
   "execution_count": null,
   "metadata": {},
   "outputs": [],
   "source": [
    "import pandas as pd\n",
    "import matplotlib.pyplot as plt\n",
    "import seaborn as sns\n",
    "from sklearn.preprocessing import MinMaxScaler\n",
    "from sklearn.metrics import confusion_matrix\n",
    "import hdbscan\n",
    "from sklearn.model_selection import train_test_split\n",
    "from sklearn.ensemble import GradientBoostingClassifier\n",
    "from sklearn.metrics import accuracy_score, classification_report\n",
    "from sklearn.neighbors import KNeighborsClassifier\n",
    "from sklearn.cluster import KMeans\n",
    "from sklearn.metrics import adjusted_rand_score\n",
    "import numpy as np\n",
    "from sklearn.metrics.cluster import contingency_matrix\n",
    "from scipy.optimize import linear_sum_assignment\n",
    "from sklearn.metrics import f1_score, precision_score, recall_score\n",
    "from sklearn.ensemble import RandomForestClassifier\n",
    "import numpy as np\n",
    "from sklearn.metrics import pairwise_distances_argmin_min\n",
    "from sklearn.tree import DecisionTreeClassifier\n",
    "from sklearn.preprocessing import StandardScaler\n",
    "from numpy import asarray\n",
    "from sklearn.preprocessing import OneHotEncoder\n",
    "import warnings\n",
    "warnings.simplefilter(action='ignore', category=FutureWarning)"
   ]
  },
  {
   "cell_type": "code",
   "execution_count": null,
   "metadata": {},
   "outputs": [],
   "source": [
    "file_path = 'diabetes_prediction_dataset.csv'  \n",
    "df = pd.read_csv(file_path)\n",
    "data = df.copy()\n",
    "print(data.dtypes)\n",
    "data=data.dropna()\n",
    "\n",
    "\n",
    "numeric_columns = ['age', 'bmi', 'HbA1c_level', 'blood_glucose_level']\n",
    "numeric_data = data[numeric_columns]\n",
    "\n",
    "# StandardScaler\n",
    "scaler = MinMaxScaler()\n",
    "scaled_data = scaler.fit_transform(numeric_data)\n",
    "scaled_df = pd.DataFrame(scaled_data, columns=numeric_columns)\n",
    "\n",
    "result_data = pd.concat([data.drop(columns=numeric_columns), scaled_df], axis=1)\n",
    "print(result_data.head())"
   ]
  },
  {
   "cell_type": "code",
   "execution_count": null,
   "metadata": {},
   "outputs": [],
   "source": [
    "num_samples_per_class = 5000\n",
    "\n",
    "# Filter rows with diabetes value 0 and 1\n",
    "diabetes_class_0 = result_data[result_data['diabetes'] == 0].sample(n=num_samples_per_class, random_state=42)\n",
    "diabetes_class_1 = result_data[result_data['diabetes'] == 1].sample(n=num_samples_per_class, random_state=42)\n",
    "\n",
    "random_sample = pd.concat([diabetes_class_0, diabetes_class_1], axis=0)\n",
    "random_sample = random_sample.sample(frac=1, random_state=42).reset_index(drop=True)"
   ]
  },
  {
   "cell_type": "code",
   "execution_count": null,
   "metadata": {},
   "outputs": [],
   "source": [
    "X = random_sample[['age', 'bmi', 'HbA1c_level', 'blood_glucose_level']]\n",
    "y = random_sample['diabetes']\n",
    "\n",
    "X_train, X_test, y_train, y_test = train_test_split(X, y, test_size=0.30, random_state=100)\n",
    "\n",
    "train_data = X_train.copy()\n",
    "train_data['diabetes'] = y_train.copy()\n",
    "\n",
    "test_data = X_test.copy()\n",
    "test_data['diabetes'] = y_test.copy()"
   ]
  },
  {
   "cell_type": "code",
   "execution_count": null,
   "metadata": {},
   "outputs": [],
   "source": [
    "#min-max values for each feature\n",
    "min_max_values = X.describe().loc[['min', 'max']]\n",
    "min_max_dict = min_max_values.to_dict(orient='list')\n",
    "\n",
    "print(min_max_values)\n",
    "print(min_max_dict)"
   ]
  },
  {
   "cell_type": "code",
   "execution_count": null,
   "metadata": {},
   "outputs": [],
   "source": [
    "# Group the DataFrame by the 'diabetes' column\n",
    "measure = random_sample[['age', 'bmi', 'HbA1c_level', 'blood_glucose_level', 'diabetes']].copy()\n",
    "grouped = measure.groupby('diabetes')\n",
    "\n",
    "# Create an empty dictionary to store the min-max ranges for each feature\n",
    "min_max_dict = {}\n",
    "\n",
    "# Iterate over each group\n",
    "for group_name, group_df in grouped:\n",
    "    # Calculate the min and max values for each column in the group\n",
    "    min_max_values = group_df.describe().loc[['min', 'max']]\n",
    "    \n",
    "    # Convert the DataFrame to a dictionary and store it in the main dictionary\n",
    "    min_max_dict[group_name] = min_max_values.to_dict(orient='list')\n",
    "\n",
    "# Display the dictionary\n",
    "print(min_max_dict)"
   ]
  },
  {
   "cell_type": "code",
   "execution_count": null,
   "metadata": {},
   "outputs": [],
   "source": [
    "#class 0: min, max, class 1: min, max\n",
    "age = [\n",
    "    min_max_dict[0]['age'][0],\n",
    "    min_max_dict[0]['age'][1],\n",
    "    min_max_dict[1]['age'][0],\n",
    "    min_max_dict[1]['age'][1]\n",
    "]\n",
    "\n",
    "bmi = [\n",
    "    min_max_dict[0]['bmi'][0],\n",
    "    min_max_dict[0]['bmi'][1],\n",
    "    min_max_dict[1]['bmi'][0],\n",
    "    min_max_dict[1]['bmi'][1]\n",
    "]\n",
    "\n",
    "hba = [\n",
    "    min_max_dict[0]['HbA1c_level'][0],\n",
    "    min_max_dict[0]['HbA1c_level'][1],\n",
    "    min_max_dict[1]['HbA1c_level'][0],\n",
    "    min_max_dict[1]['HbA1c_level'][1]\n",
    "]\n",
    "\n",
    "blood = [\n",
    "    min_max_dict[0]['blood_glucose_level'][0],\n",
    "    min_max_dict[0]['blood_glucose_level'][1],\n",
    "    min_max_dict[1]['blood_glucose_level'][0],\n",
    "    min_max_dict[1]['blood_glucose_level'][1]\n",
    "]\n",
    "\n",
    "print(age)\n",
    "print(bmi)\n",
    "print(hba)\n",
    "print(blood)\n"
   ]
  },
  {
   "cell_type": "code",
   "execution_count": null,
   "metadata": {},
   "outputs": [],
   "source": [
    "# Group the DataFrame by the 'diabetes' column\n",
    "measure = random_sample[['age', 'bmi', 'HbA1c_level', 'blood_glucose_level', 'diabetes']].copy()\n",
    "grouped = measure.groupby('diabetes')\n",
    "\n",
    "# Create an empty dictionary to store the mean and standard deviation for each feature\n",
    "stats_dict = {}\n",
    "\n",
    "# Iterate over each group\n",
    "for group_name, group_df in grouped:\n",
    "    # Calculate the mean and standard deviation for each column in the group\n",
    "    mean_values = group_df.mean()\n",
    "    std_values = group_df.std()\n",
    "    \n",
    "    # Store mean and std in a dictionary for each feature\n",
    "    for feature in group_df.columns:\n",
    "        if feature not in stats_dict:\n",
    "            stats_dict[feature] = {}\n",
    "        \n",
    "        stats_dict[feature]['mean_' + str(group_name)] = mean_values[feature]\n",
    "        stats_dict[feature]['std_' + str(group_name)] = std_values[feature]\n",
    "\n",
    "# Display the dictionary\n",
    "print(stats_dict)"
   ]
  },
  {
   "cell_type": "code",
   "execution_count": null,
   "metadata": {},
   "outputs": [],
   "source": [
    "# Assume 'feature_to_delete' is the feature you want to delete\n",
    "feature_to_delete = 'diabetes'\n",
    "\n",
    "# Check if the feature exists in stats_dict before deleting\n",
    "if feature_to_delete in stats_dict:\n",
    "    del stats_dict[feature_to_delete]\n",
    "    print(f\"{feature_to_delete} deleted from stats_dict\")\n",
    "else:\n",
    "    print(f\"{feature_to_delete} does not exist in stats_dict\")"
   ]
  },
  {
   "cell_type": "code",
   "execution_count": null,
   "metadata": {},
   "outputs": [],
   "source": [
    "# Create an empty dictionary to store the rf_i value for each feature\n",
    "rf_dict = {}\n",
    "\n",
    "# Iterate over each feature in stats_dict\n",
    "for feature, stats_values in stats_dict.items():\n",
    "    # Calculate rf_i value using the provided formula\n",
    "    rf_i = ((stats_values['mean_0'] - stats_values['mean_1'])**2) / (stats_values['std_0']**2 + stats_values['std_1']**2)\n",
    "    \n",
    "    # Store rf_i value in rf_dict\n",
    "    rf_dict[feature] = rf_i\n",
    "\n",
    "# Display the dictionary with rf values\n",
    "print(rf_dict)"
   ]
  },
  {
   "cell_type": "code",
   "execution_count": null,
   "metadata": {},
   "outputs": [],
   "source": [
    "f1_overlap = 1/(1+1.1373834470939403)\n",
    "print(f1_overlap)"
   ]
  }
 ],
 "metadata": {
  "language_info": {
   "name": "python"
  }
 },
 "nbformat": 4,
 "nbformat_minor": 2
}
