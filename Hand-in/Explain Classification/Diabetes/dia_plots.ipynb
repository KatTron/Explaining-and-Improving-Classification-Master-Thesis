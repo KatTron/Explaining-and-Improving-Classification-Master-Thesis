{
 "cells": [
  {
   "cell_type": "code",
   "execution_count": null,
   "metadata": {},
   "outputs": [],
   "source": [
    "import pandas as pd\n",
    "import matplotlib.pyplot as plt\n",
    "import seaborn as sns\n",
    "from sklearn.preprocessing import MinMaxScaler\n",
    "from sklearn.metrics import confusion_matrix\n",
    "import hdbscan\n",
    "from sklearn.model_selection import train_test_split\n",
    "from sklearn.ensemble import GradientBoostingClassifier\n",
    "from sklearn.metrics import accuracy_score, classification_report\n",
    "from sklearn.neighbors import KNeighborsClassifier\n",
    "from sklearn.cluster import KMeans\n",
    "from sklearn.metrics import adjusted_rand_score\n",
    "import numpy as np\n",
    "from sklearn.metrics.cluster import contingency_matrix\n",
    "from scipy.optimize import linear_sum_assignment\n",
    "from sklearn.metrics import f1_score, precision_score, recall_score\n",
    "from sklearn.ensemble import RandomForestClassifier\n",
    "import numpy as np\n",
    "from sklearn.metrics import pairwise_distances_argmin_min\n",
    "from sklearn.tree import DecisionTreeClassifier\n",
    "from sklearn.preprocessing import StandardScaler\n",
    "from numpy import asarray\n",
    "from sklearn.preprocessing import OneHotEncoder\n",
    "import warnings\n",
    "warnings.simplefilter(action='ignore', category=FutureWarning)"
   ]
  },
  {
   "cell_type": "code",
   "execution_count": null,
   "metadata": {},
   "outputs": [],
   "source": [
    "file_path = 'diabetes_prediction_dataset.csv'  \n",
    "df = pd.read_csv(file_path)\n",
    "data = df.copy()\n",
    "print(data.dtypes)\n",
    "data=data.dropna()\n",
    "\n",
    "\n",
    "numeric_columns = ['age', 'bmi', 'HbA1c_level', 'blood_glucose_level']\n",
    "numeric_data = data[numeric_columns]\n",
    "\n",
    "# StandardScaler\n",
    "scaler = MinMaxScaler()\n",
    "scaled_data = scaler.fit_transform(numeric_data)\n",
    "scaled_df = pd.DataFrame(scaled_data, columns=numeric_columns)\n",
    "\n",
    "result_data = pd.concat([data.drop(columns=numeric_columns), scaled_df], axis=1)\n",
    "print(result_data.head())"
   ]
  },
  {
   "cell_type": "code",
   "execution_count": null,
   "metadata": {},
   "outputs": [],
   "source": [
    "num_samples_per_class = 5000\n",
    "\n",
    "# Filter rows with diabetes value 0 and 1\n",
    "diabetes_class_0 = result_data[result_data['diabetes'] == 0].sample(n=num_samples_per_class, random_state=42)\n",
    "diabetes_class_1 = result_data[result_data['diabetes'] == 1].sample(n=num_samples_per_class, random_state=42)\n",
    "\n",
    "random_sample = pd.concat([diabetes_class_0, diabetes_class_1], axis=0)\n",
    "random_sample = random_sample.sample(frac=1, random_state=42).reset_index(drop=True)"
   ]
  },
  {
   "cell_type": "code",
   "execution_count": null,
   "metadata": {},
   "outputs": [],
   "source": [
    "X = random_sample[['age', 'bmi', 'HbA1c_level', 'blood_glucose_level']]\n",
    "y = random_sample['diabetes']\n",
    "\n",
    "X_train, X_test, y_train, y_test = train_test_split(X, y, test_size=0.30, random_state=100)\n",
    "\n",
    "train_data = X_train.copy()\n",
    "train_data['diabetes'] = y_train.copy()\n",
    "\n",
    "test_data = X_test.copy()\n",
    "test_data['diabetes'] = y_test.copy()"
   ]
  },
  {
   "cell_type": "code",
   "execution_count": null,
   "metadata": {},
   "outputs": [],
   "source": [
    "kmeans = KMeans(n_clusters=5, random_state=42)\n",
    "cluster_labels = kmeans.fit_predict(X)\n",
    "\n",
    "# Create a dictionary to store dataframes for each cluster\n",
    "cluster_dataframes = {}\n",
    "\n",
    "# Create a dataframe for each cluster and store its data points\n",
    "for cluster_label in range(5):\n",
    "    cluster_indices = np.where(cluster_labels == cluster_label)[0]\n",
    "    cluster_dataframes[f'cluster_{cluster_label}'] = X.iloc[cluster_indices].copy()\n",
    "\n",
    "# Access the dataframes for each cluster using the dictionary keys\n",
    "for cluster_label, cluster_df in cluster_dataframes.items():\n",
    "    print(f\"Cluster {cluster_label} size: {len(cluster_df)}\")\n",
    "\n",
    "# Example: Access the dataframe for cluster 0\n",
    "cluster_0_df = cluster_dataframes['cluster_0']"
   ]
  },
  {
   "cell_type": "code",
   "execution_count": null,
   "metadata": {},
   "outputs": [],
   "source": [
    "# Fit KMeans clustering\n",
    "kmeans = KMeans(n_clusters=5, random_state=42)\n",
    "cluster_labels = kmeans.fit_predict(X)\n",
    "\n",
    "# Combine X, y, and cluster labels into one DataFrame\n",
    "data = pd.concat([pd.DataFrame(X, columns=X.columns), pd.DataFrame(cluster_labels, columns=['Clusters'])], axis=1)\n",
    "\n",
    "plt.figure(figsize=(8, 6))\n",
    "# Create a scatterplot matrix colored by cluster and with different shapes for y\n",
    "g = sns.pairplot(data, hue='Clusters', palette='tab10')\n",
    "\n",
    "# Show plot\n",
    "plt.show()"
   ]
  },
  {
   "cell_type": "code",
   "execution_count": null,
   "metadata": {},
   "outputs": [],
   "source": [
    "y_array = y.values\n",
    "print(type(y_array))"
   ]
  },
  {
   "cell_type": "code",
   "execution_count": null,
   "metadata": {},
   "outputs": [],
   "source": [
    "data = pd.concat([pd.DataFrame(X, columns=X.columns), pd.DataFrame(y_array, columns=['Class'])], axis=1)\n",
    "\n",
    "plt.figure(figsize=(8, 6))\n",
    "# Create a scatterplot matrix colored by cluster and with different shapes for y\n",
    "g = sns.pairplot(data, hue='Class', palette=['#c875c4', '#005249'])\n",
    "\n",
    "# Show plot\n",
    "plt.show()"
   ]
  }
 ],
 "metadata": {
  "language_info": {
   "name": "python"
  }
 },
 "nbformat": 4,
 "nbformat_minor": 2
}
