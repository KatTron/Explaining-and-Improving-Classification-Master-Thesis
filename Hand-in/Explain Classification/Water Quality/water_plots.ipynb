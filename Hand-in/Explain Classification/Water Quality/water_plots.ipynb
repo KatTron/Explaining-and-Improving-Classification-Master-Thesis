{
 "cells": [
  {
   "cell_type": "code",
   "execution_count": null,
   "metadata": {},
   "outputs": [],
   "source": [
    "import pandas as pd\n",
    "import matplotlib.pyplot as plt\n",
    "import seaborn as sns\n",
    "from sklearn.preprocessing import MinMaxScaler\n",
    "from sklearn.metrics import confusion_matrix\n",
    "import hdbscan\n",
    "from sklearn.model_selection import train_test_split\n",
    "from sklearn.ensemble import GradientBoostingClassifier\n",
    "from sklearn.metrics import accuracy_score, classification_report\n",
    "from sklearn.neighbors import KNeighborsClassifier\n",
    "from sklearn.cluster import KMeans\n",
    "from sklearn.metrics import adjusted_rand_score\n",
    "import numpy as np\n",
    "from sklearn.metrics.cluster import contingency_matrix\n",
    "from scipy.optimize import linear_sum_assignment\n",
    "from sklearn.metrics import f1_score, precision_score, recall_score\n",
    "from sklearn.ensemble import RandomForestClassifier\n",
    "import numpy as np\n",
    "from sklearn.metrics import pairwise_distances_argmin_min\n",
    "from sklearn.tree import DecisionTreeClassifier\n",
    "from sklearn.preprocessing import StandardScaler\n",
    "from numpy import asarray\n",
    "from sklearn.preprocessing import OneHotEncoder\n",
    "import warnings\n",
    "warnings.simplefilter(action='ignore', category=FutureWarning)"
   ]
  },
  {
   "cell_type": "code",
   "execution_count": null,
   "metadata": {},
   "outputs": [],
   "source": [
    "file_path = 'water_potability.csv'  \n",
    "df = pd.read_csv(file_path)\n",
    "data = df.copy()\n",
    "print(data.dtypes)\n",
    "data=data.dropna()\n",
    "data = data.reset_index(drop=True)\n",
    "\n",
    "y = data['Potability']\n",
    "\n",
    "variable_list = data.columns.tolist()\n",
    "print(variable_list)\n",
    "variable_list.remove('Potability')\n",
    "print(variable_list)\n",
    "\n",
    "numeric_data = data[variable_list]\n",
    "\n",
    "# StandardScaler\n",
    "scaler = MinMaxScaler()\n",
    "scaled_data = scaler.fit_transform(numeric_data)\n",
    "df_scaled = pd.DataFrame(scaled_data, columns=variable_list)\n",
    "\n",
    "df_scaled['Potability'] = y\n",
    "\n",
    "print(df_scaled)\n",
    "\n",
    "unique_counts = df_scaled['Potability'].value_counts()\n",
    "print(\"Number of occurrences for each unique value in 'target' column:\")\n",
    "print(unique_counts)"
   ]
  },
  {
   "cell_type": "code",
   "execution_count": null,
   "metadata": {},
   "outputs": [],
   "source": [
    "num_samples_per_class = 700\n",
    "\n",
    "# Filter rows with diabetes value 0 and 1\n",
    "diabetes_class_0 = df_scaled[df_scaled['Potability'] == 0].sample(n=num_samples_per_class, random_state=42)\n",
    "diabetes_class_1 = df_scaled[df_scaled['Potability'] == 1].sample(n=num_samples_per_class, random_state=42)\n",
    "\n",
    "random_sample = pd.concat([diabetes_class_0, diabetes_class_1], axis=0)\n",
    "random_sample = random_sample.sample(frac=1, random_state=42).reset_index(drop=True)"
   ]
  },
  {
   "cell_type": "code",
   "execution_count": null,
   "metadata": {},
   "outputs": [],
   "source": [
    "X = random_sample.drop('Potability', axis=1)\n",
    "y = random_sample['Potability']"
   ]
  },
  {
   "cell_type": "code",
   "execution_count": null,
   "metadata": {},
   "outputs": [],
   "source": [
    "# Perform KMeans clustering for 8 clusters\n",
    "kmeans = KMeans(n_clusters=8, random_state=42)\n",
    "cluster_labels = kmeans.fit_predict(X)\n",
    "\n",
    "cluster_dataframes = {}\n",
    "\n",
    "for cluster_label in range(8):\n",
    "    cluster_indices = np.where(cluster_labels == cluster_label)[0]\n",
    "    cluster_dataframes[f'cluster_{cluster_label}'] = X.iloc[cluster_indices].copy()\n",
    "\n",
    "for cluster_label, cluster_df in cluster_dataframes.items():\n",
    "    print(f\"Cluster {cluster_label} size: {len(cluster_df)}\")"
   ]
  },
  {
   "cell_type": "code",
   "execution_count": null,
   "metadata": {},
   "outputs": [],
   "source": [
    "y_array = y.values\n",
    "print(type(y_array))"
   ]
  },
  {
   "cell_type": "code",
   "execution_count": null,
   "metadata": {},
   "outputs": [],
   "source": [
    "# Create a scatterplot matrix colored by cluster\n",
    "\n",
    "data = pd.concat([pd.DataFrame(X, columns=X.columns), pd.DataFrame(cluster_labels, columns=['Clusters'])], axis=1)\n",
    "g = sns.pairplot(data, hue='Clusters', palette='tab10')\n",
    "\n",
    "plt.show()"
   ]
  },
  {
   "cell_type": "code",
   "execution_count": null,
   "metadata": {},
   "outputs": [],
   "source": [
    "# Create a scatterplot matrix colored by class\n",
    "\n",
    "data = pd.concat([pd.DataFrame(X, columns=X.columns), pd.DataFrame(y_array, columns=['Class'])], axis=1)\n",
    "\n",
    "plt.figure(figsize=(8, 6))\n",
    "g = sns.pairplot(data, hue='Class', palette=['#c875c4', '#005249'])\n",
    "\n",
    "plt.show()"
   ]
  }
 ],
 "metadata": {
  "language_info": {
   "name": "python"
  }
 },
 "nbformat": 4,
 "nbformat_minor": 2
}
