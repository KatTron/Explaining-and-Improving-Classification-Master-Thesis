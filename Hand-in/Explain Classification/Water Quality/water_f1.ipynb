{
 "cells": [
  {
   "cell_type": "code",
   "execution_count": null,
   "metadata": {},
   "outputs": [],
   "source": [
    "import pandas as pd\n",
    "import matplotlib.pyplot as plt\n",
    "import seaborn as sns\n",
    "from sklearn.preprocessing import MinMaxScaler\n",
    "from sklearn.metrics import confusion_matrix\n",
    "import hdbscan\n",
    "from sklearn.model_selection import train_test_split\n",
    "from sklearn.ensemble import GradientBoostingClassifier\n",
    "from sklearn.metrics import accuracy_score, classification_report\n",
    "from sklearn.neighbors import KNeighborsClassifier\n",
    "from sklearn.cluster import KMeans\n",
    "from sklearn.metrics import adjusted_rand_score\n",
    "import numpy as np\n",
    "from sklearn.metrics.cluster import contingency_matrix\n",
    "from scipy.optimize import linear_sum_assignment\n",
    "from sklearn.metrics import f1_score, precision_score, recall_score\n",
    "from sklearn.ensemble import RandomForestClassifier\n",
    "import numpy as np\n",
    "from sklearn.metrics import pairwise_distances_argmin_min\n",
    "from sklearn.tree import DecisionTreeClassifier\n",
    "from sklearn.preprocessing import StandardScaler\n",
    "from numpy import asarray\n",
    "from sklearn.preprocessing import OneHotEncoder\n",
    "import warnings\n",
    "warnings.simplefilter(action='ignore', category=FutureWarning)"
   ]
  },
  {
   "cell_type": "code",
   "execution_count": null,
   "metadata": {},
   "outputs": [],
   "source": [
    "file_path = 'water_potability.csv'  \n",
    "df = pd.read_csv(file_path)\n",
    "data = df.copy()\n",
    "print(data.dtypes)\n",
    "data=data.dropna()\n",
    "data = data.reset_index(drop=True)\n",
    "\n",
    "y = data['Potability']\n",
    "\n",
    "variable_list = data.columns.tolist()\n",
    "print(variable_list)\n",
    "variable_list.remove('Potability')\n",
    "print(variable_list)\n",
    "\n",
    "numeric_data = data[variable_list]\n",
    "\n",
    "# StandardScaler\n",
    "scaler = MinMaxScaler()\n",
    "scaled_data = scaler.fit_transform(numeric_data)\n",
    "df_scaled = pd.DataFrame(scaled_data, columns=variable_list)\n",
    "\n",
    "df_scaled['Potability'] = y\n",
    "\n",
    "unique_counts = df_scaled['Potability'].value_counts()\n",
    "print(\"Number of occurrences for each unique value in 'target' column:\")\n",
    "print(unique_counts)"
   ]
  },
  {
   "cell_type": "code",
   "execution_count": null,
   "metadata": {},
   "outputs": [],
   "source": [
    "num_samples_per_class = 700\n",
    "\n",
    "# Filter rows with diabetes value 0 and 1\n",
    "diabetes_class_0 = df_scaled[df_scaled['Potability'] == 0].sample(n=num_samples_per_class, random_state=42)\n",
    "diabetes_class_1 = df_scaled[df_scaled['Potability'] == 1].sample(n=num_samples_per_class, random_state=42)\n",
    "\n",
    "random_sample = pd.concat([diabetes_class_0, diabetes_class_1], axis=0)\n",
    "random_sample = random_sample.sample(frac=1, random_state=42).reset_index(drop=True)"
   ]
  },
  {
   "cell_type": "code",
   "execution_count": null,
   "metadata": {},
   "outputs": [],
   "source": [
    "measure = random_sample.copy()\n",
    "grouped = measure.groupby('Potability')\n",
    "\n",
    "stats_dict = {}\n",
    "\n",
    "# Iterate over each group\n",
    "for group_name, group_df in grouped:\n",
    "    # Calculate the mean and standard deviation for each column in the group\n",
    "    mean_values = group_df.mean()\n",
    "    std_values = group_df.std()\n",
    "    \n",
    "    # Store mean and std in a dictionary for each feature\n",
    "    for feature in group_df.columns:\n",
    "        if feature not in stats_dict:\n",
    "            stats_dict[feature] = {}\n",
    "        \n",
    "        stats_dict[feature]['mean_' + str(group_name)] = mean_values[feature]\n",
    "        stats_dict[feature]['std_' + str(group_name)] = std_values[feature]\n",
    "\n",
    "print(stats_dict)"
   ]
  },
  {
   "cell_type": "code",
   "execution_count": null,
   "metadata": {},
   "outputs": [],
   "source": [
    "feature_to_delete = 'Potability'\n",
    "\n",
    "if feature_to_delete in stats_dict:\n",
    "    del stats_dict[feature_to_delete]\n",
    "    print(f\"{feature_to_delete} deleted from stats_dict\")\n",
    "else:\n",
    "    print(f\"{feature_to_delete} does not exist in stats_dict\")"
   ]
  },
  {
   "cell_type": "code",
   "execution_count": null,
   "metadata": {},
   "outputs": [],
   "source": [
    "rf_dict = {}\n",
    "\n",
    "# Iterate over each feature in stats_dict\n",
    "for feature, stats_values in stats_dict.items():\n",
    "    # Calculate rf_i value using the f1 formula\n",
    "    rf_i = ((stats_values['mean_0'] - stats_values['mean_1'])**2) / (stats_values['std_0']**2 + stats_values['std_1']**2)\n",
    "    \n",
    "    rf_dict[feature] = rf_i\n",
    "\n",
    "print(rf_dict)"
   ]
  },
  {
   "cell_type": "code",
   "execution_count": null,
   "metadata": {},
   "outputs": [],
   "source": [
    "\n",
    "max_rf_value = float('-inf')  # Initialize with negative infinity to ensure any calculated value is greater\n",
    "\n",
    "# Iterate over each feature in rf_dict\n",
    "for feature, rf_value in rf_dict.items():\n",
    "    if rf_value > max_rf_value:\n",
    "        max_rf_value = rf_value\n",
    "\n",
    "print(\"Maximum rf value:\", max_rf_value)"
   ]
  },
  {
   "cell_type": "code",
   "execution_count": null,
   "metadata": {},
   "outputs": [],
   "source": [
    "f1_overlap = 1 / (1+0.004115415242891468)   # the max rf value\n",
    "print(f1_overlap)"
   ]
  }
 ],
 "metadata": {
  "language_info": {
   "name": "python"
  }
 },
 "nbformat": 4,
 "nbformat_minor": 2
}
