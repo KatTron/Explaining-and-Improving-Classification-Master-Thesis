{
 "cells": [
  {
   "cell_type": "code",
   "execution_count": 1,
   "metadata": {
    "metadata": {}
   },
   "outputs": [],
   "source": [
    "import pandas as pd\n",
    "import matplotlib.pyplot as plt\n",
    "import seaborn as sns\n",
    "from sklearn.preprocessing import MinMaxScaler\n",
    "from sklearn.metrics import confusion_matrix\n",
    "import hdbscan\n",
    "from sklearn.model_selection import train_test_split\n",
    "from sklearn.ensemble import GradientBoostingClassifier\n",
    "from sklearn.metrics import accuracy_score, classification_report\n",
    "from sklearn.neighbors import KNeighborsClassifier\n",
    "from sklearn.cluster import KMeans\n",
    "from sklearn.metrics import adjusted_rand_score\n",
    "import numpy as np\n",
    "from sklearn.metrics.cluster import contingency_matrix\n",
    "from scipy.optimize import linear_sum_assignment\n",
    "from sklearn.metrics import f1_score, precision_score, recall_score\n",
    "from sklearn.ensemble import RandomForestClassifier\n",
    "import numpy as np\n",
    "from sklearn.metrics import pairwise_distances_argmin_min\n",
    "from sklearn.tree import DecisionTreeClassifier\n",
    "from sklearn.preprocessing import StandardScaler\n",
    "from numpy import asarray\n",
    "from sklearn.preprocessing import OneHotEncoder\n",
    "import warnings\n",
    "warnings.simplefilter(action='ignore', category=FutureWarning)"
   ]
  },
  {
   "cell_type": "code",
   "execution_count": 3,
   "metadata": {
    "metadata": {}
   },
   "outputs": [
    {
     "name": "stdout",
     "output_type": "stream",
     "text": [
      "gender                  object\n",
      "age                    float64\n",
      "hypertension             int64\n",
      "heart_disease            int64\n",
      "smoking_history         object\n",
      "bmi                    float64\n",
      "HbA1c_level            float64\n",
      "blood_glucose_level      int64\n",
      "diabetes                 int64\n",
      "dtype: object\n"
     ]
    }
   ],
   "source": [
    "file_path = 'diabetes_prediction_dataset.csv'  \n",
    "df = pd.read_csv(file_path)\n",
    "data = df.copy()\n",
    "print(data.dtypes)\n",
    "data=data.dropna()\n",
    "\n",
    "dummy_gender = pd.get_dummies(data['gender'], prefix='gender', drop_first=True)\n",
    "\n",
    "dummy_gender = dummy_gender.astype(int)\n",
    "\n",
    "\n",
    "data = pd.concat([data, dummy_gender], axis=1)\n",
    "\n",
    "data = data.drop('gender', axis=1)\n",
    "\n",
    "dummy_smoking = pd.get_dummies(data['smoking_history'], prefix='smoking_history', drop_first=True)\n",
    "\n",
    "dummy_smoking = dummy_smoking.astype(int)\n",
    "\n",
    "\n",
    "data = pd.concat([data, dummy_smoking], axis=1)\n",
    "\n",
    "data = data.drop('smoking_history', axis=1)\n",
    "\n",
    "numeric_columns = ['age', 'bmi', 'HbA1c_level', 'blood_glucose_level']\n",
    "numeric_data = data[numeric_columns]\n",
    "\n",
    "# Initialize StandardScaler\n",
    "scaler = MinMaxScaler()\n",
    "\n",
    "# Scale the numeric columns\n",
    "scaled_data = scaler.fit_transform(numeric_data)\n",
    "\n",
    "# Create a DataFrame with the scaled numeric columns\n",
    "scaled_df = pd.DataFrame(scaled_data, columns=numeric_columns)\n",
    "\n",
    "# Concatenate the scaled numeric columns with the one-hot encoded columns and non-numeric columns\n",
    "result_data = pd.concat([data.drop(columns=numeric_columns), scaled_df], axis=1)"
   ]
  },
  {
   "cell_type": "code",
   "execution_count": 4,
   "metadata": {
    "metadata": {}
   },
   "outputs": [],
   "source": [
    "num_samples_per_class = 6000\n",
    "\n",
    "diabetes_class_0 = result_data[result_data['diabetes'] == 0].sample(n=num_samples_per_class, random_state=42)\n",
    "diabetes_class_1 = result_data[result_data['diabetes'] == 1].sample(n=num_samples_per_class, random_state=42)\n",
    "\n",
    "random_sample = pd.concat([diabetes_class_0, diabetes_class_1], axis=0)\n",
    "\n",
    "random_sample = random_sample.sample(frac=1, random_state=42).reset_index(drop=True)\n",
    "random_sample = random_sample[['age', 'bmi', 'HbA1c_level', 'blood_glucose_level', 'diabetes']]"
   ]
  },
  {
   "cell_type": "code",
   "execution_count": 22,
   "metadata": {
    "metadata": {}
   },
   "outputs": [
    {
     "name": "stdout",
     "output_type": "stream",
     "text": [
      "Number of rows in df_subset_1: 3000\n",
      "Number of rows in df_subset_2: 9000\n"
     ]
    }
   ],
   "source": [
    "# Randomly select 3000 observation to test set\n",
    "df_X_test = random_sample.sample(n=3000, random_state=42)\n",
    "\n",
    "# Remove the selected observations from the original subset to create the second subset\n",
    "df_subset_2 = random_sample.drop(df_X_test.index)\n",
    "\n",
    "# df_subset_1 contains 3000 randomly selected observations for test set\n",
    "# df_subset_2 contains the rest of the observations from the original subset\n",
    "\n",
    "print(\"Number of rows in df_subset_1:\", len(df_X_test))\n",
    "print(\"Number of rows in df_subset_2:\", len(df_subset_2))"
   ]
  },
  {
   "cell_type": "code",
   "execution_count": 23,
   "metadata": {
    "metadata": {}
   },
   "outputs": [],
   "source": [
    "df_X_test1 = df_X_test.drop('diabetes', axis=1)\n",
    "df_y_test1 = df_X_test['diabetes']"
   ]
  },
  {
   "cell_type": "code",
   "execution_count": 24,
   "metadata": {
    "metadata": {}
   },
   "outputs": [],
   "source": [
    "X = df_subset_2[['age', 'bmi', 'HbA1c_level', 'blood_glucose_level']]\n",
    "y = df_subset_2['diabetes']\n",
    "\n",
    "X_train, X_test, y_train, y_test = train_test_split(X, y, test_size=0.25, random_state=100)\n"
   ]
  },
  {
   "cell_type": "code",
   "execution_count": 9,
   "metadata": {
    "metadata": {}
   },
   "outputs": [
    {
     "name": "stdout",
     "output_type": "stream",
     "text": [
      "0.9004444444444445\n"
     ]
    }
   ],
   "source": [
    "model = RandomForestClassifier(random_state=42)\n",
    "model.fit(X_train, y_train)\n",
    "\n",
    "y_pred = model.predict(X_test)\n",
    "\n",
    "accuracy = accuracy_score(y_test, y_pred)\n",
    "print(accuracy)"
   ]
  },
  {
   "cell_type": "code",
   "execution_count": 10,
   "metadata": {
    "metadata": {}
   },
   "outputs": [
    {
     "name": "stdout",
     "output_type": "stream",
     "text": [
      "113\n",
      "111\n"
     ]
    }
   ],
   "source": [
    "error_mask = y_test != y_pred\n",
    "error_features = X_test[error_mask]\n",
    "error_points = y_test[error_mask]\n",
    "\n",
    "errors_0 = error_features[y_test[error_mask] == 0]\n",
    "errors_1 = error_features[y_test[error_mask] == 1]\n",
    "errors_0_y = error_points[y_test[error_mask] == 0]\n",
    "errors_1_y = error_points[y_test[error_mask] == 1]\n",
    "\n",
    "\n",
    "print(len(errors_0))\n",
    "print(len(errors_1))"
   ]
  },
  {
   "cell_type": "code",
   "execution_count": 11,
   "metadata": {
    "metadata": {}
   },
   "outputs": [
    {
     "name": "stdout",
     "output_type": "stream",
     "text": [
      "          age       bmi  HbA1c_level  blood_glucose_level\n",
      "min  0.374374  0.098506     0.400000             0.209091\n",
      "max  1.000000  0.539566     0.563636             0.545455\n",
      "          age       bmi  HbA1c_level  blood_glucose_level\n",
      "min  0.061562  0.062675     0.400000             0.209091\n",
      "max  1.000000  0.455882     0.563636             0.545455\n"
     ]
    }
   ],
   "source": [
    "print(errors_0.describe().loc[['min', 'max']])\n",
    "print(errors_1.describe().loc[['min', 'max']])"
   ]
  },
  {
   "cell_type": "code",
   "execution_count": 26,
   "metadata": {
    "metadata": {}
   },
   "outputs": [
    {
     "name": "stdout",
     "output_type": "stream",
     "text": [
      "            age       bmi  HbA1c_level  blood_glucose_level  diabetes\n",
      "9      0.712212  0.202031     0.472727             0.359091         0\n",
      "12     0.987487  0.202031     0.490909             0.295455         0\n",
      "18     0.574575  0.167134     0.418182             0.227273         0\n",
      "26     0.486987  0.202031     0.418182             0.363636         0\n",
      "40     0.937437  0.098506     0.418182             0.295455         0\n",
      "...         ...       ...          ...                  ...       ...\n",
      "11900  0.461962  0.202031     0.545455             0.363636         0\n",
      "11901  0.637137  0.202031     0.400000             0.295455         0\n",
      "11918  0.712212  0.207283     0.490909             0.272727         0\n",
      "11978  0.374374  0.193277     0.490909             0.359091         0\n",
      "11989  0.386887  0.202031     0.418182             0.545455         0\n",
      "\n",
      "[890 rows x 5 columns]\n",
      "            age       bmi  HbA1c_level  blood_glucose_level  diabetes\n",
      "20     0.649650  0.342204     0.490909             0.545455         1\n",
      "25     0.386887  0.241830     0.454545             0.227273         1\n",
      "37     0.699700  0.220355     0.400000             0.359091         1\n",
      "38     0.687187  0.202031     0.545455             0.363636         1\n",
      "94     0.787287  0.154062     0.400000             0.359091         1\n",
      "...         ...       ...          ...                  ...       ...\n",
      "11946  0.874875  0.393557     0.418182             0.227273         1\n",
      "11973  1.000000  0.205415     0.490909             0.295455         1\n",
      "11982  0.562062  0.365546     0.400000             0.545455         1\n",
      "11986  1.000000  0.202031     0.418182             0.340909         1\n",
      "11988  0.612112  0.292134     0.418182             0.272727         1\n",
      "\n",
      "[1082 rows x 5 columns]\n",
      "            age       bmi  HbA1c_level  blood_glucose_level  diabetes\n",
      "1      0.749750  0.271242     0.563636             0.209091         1\n",
      "2      0.111612  0.058007     0.181818             0.000000         0\n",
      "4      0.774775  0.125350     0.236364             0.209091         0\n",
      "5      0.424424  0.254435     0.727273             1.000000         1\n",
      "6      0.662162  0.095238     0.490909             0.272727         0\n",
      "...         ...       ...          ...                  ...       ...\n",
      "11992  0.649650  0.190826     0.600000             0.295455         1\n",
      "11993  0.649650  0.221055     0.000000             0.272727         0\n",
      "11996  0.537037  0.202031     0.236364             0.359091         0\n",
      "11997  0.486987  0.145075     0.236364             0.295455         0\n",
      "11999  0.937437  0.267157     0.963636             0.340909         1\n",
      "\n",
      "[9000 rows x 5 columns]\n"
     ]
    }
   ],
   "source": [
    "# Ranges for each feature\n",
    "feature_ranges_0 = {\n",
    "    'age': (0.374, 1.0),\n",
    "    'bmi': (0.098, 0.539566),\n",
    "    'HbA1c_level': (0.400000, 0.563636),\n",
    "    'blood_glucose_level': (0.209091, 0.545455)\n",
    "}\n",
    "\n",
    "feature_ranges_1 = {\n",
    "    'age': (0.0615, 1.0),\n",
    "    'bmi': (0.062675, 0.455882),\n",
    "    'HbA1c_level': (0.400000, 0.563636),\n",
    "    'blood_glucose_level': (0.209091, 0.545455)\n",
    "}\n",
    "\n",
    "# Filter class 0\n",
    "filtered_class_0_with_y = df_subset_2[(df_subset_2['diabetes'] == 0) &\n",
    "    (df_subset_2['age'].between(feature_ranges_0['age'][0], feature_ranges_0['age'][1])) &\n",
    "    (df_subset_2['bmi'].between(feature_ranges_0['bmi'][0], feature_ranges_0['bmi'][1])) &\n",
    "    (df_subset_2['HbA1c_level'].between(feature_ranges_0['HbA1c_level'][0], feature_ranges_0['HbA1c_level'][1])) &\n",
    "    (df_subset_2['blood_glucose_level'].between(feature_ranges_0['blood_glucose_level'][0], feature_ranges_0['blood_glucose_level'][1]))\n",
    "]\n",
    "\n",
    "\n",
    "# Filter class 1\n",
    "filtered_class_1_with_y = df_subset_2[(df_subset_2['diabetes'] == 1) &\n",
    "    (df_subset_2['age'].between(feature_ranges_1['age'][0], feature_ranges_1['age'][1])) &\n",
    "    (df_subset_2['bmi'].between(feature_ranges_1['bmi'][0], feature_ranges_1['bmi'][1])) &\n",
    "    (df_subset_2['HbA1c_level'].between(feature_ranges_1['HbA1c_level'][0], feature_ranges_1['HbA1c_level'][1])) &\n",
    "    (df_subset_2['blood_glucose_level'].between(feature_ranges_1['blood_glucose_level'][0], feature_ranges_1['blood_glucose_level'][1])) \n",
    "]\n",
    "\n",
    "\n",
    "print(filtered_class_0_with_y)\n",
    "print(filtered_class_1_with_y)\n",
    "print(df_subset_2)"
   ]
  },
  {
   "cell_type": "code",
   "execution_count": 38,
   "metadata": {
    "metadata": {}
   },
   "outputs": [
    {
     "name": "stdout",
     "output_type": "stream",
     "text": [
      "Soft Voting Accuracy: 0.8813333333333333\n",
      "Hard Voting Accuracy: 0.8813333333333333\n"
     ]
    }
   ],
   "source": [
    "iterations = 500\n",
    "all_predicted_probabilities = []\n",
    "\n",
    "for i in range(iterations):\n",
    "    \n",
    "    # Randomly select X instances from outside the error ranges for each class\n",
    "    additional_samples_class_0 = df_subset_2[(df_subset_2['diabetes'] == 0) & \n",
    "                                               (~df_subset_2.index.isin(filtered_class_0_with_y.index))].sample(n=250)\n",
    "    \n",
    "    additional_samples_class_1 = df_subset_2[(df_subset_2['diabetes'] == 1) & \n",
    "                                               (~df_subset_2.index.isin(filtered_class_1_with_y.index))].sample(n=250)\n",
    "    \n",
    "    # Combine selected instances\n",
    "    combined_df = pd.concat([filtered_class_0_with_y, filtered_class_1_with_y, additional_samples_class_0, additional_samples_class_1])\n",
    "    \n",
    "    X = combined_df.drop(columns=['diabetes'])\n",
    "    y = combined_df['diabetes']\n",
    "    \n",
    "    clf = RandomForestClassifier(random_state=42)\n",
    "    clf.fit(X, y)\n",
    "    \n",
    "    all_predicted_probabilities.append(clf.predict_proba(df_X_test1))\n",
    "\n",
    "# Perform soft voting\n",
    "soft_voting_predictions = np.mean(all_predicted_probabilities, axis=0)\n",
    "soft_voting_accuracy = accuracy_score(df_y_test1, np.argmax(soft_voting_predictions, axis=1))\n",
    "print(\"Soft Voting Accuracy:\", soft_voting_accuracy)"
   ]
  },
  {
   "cell_type": "code",
   "execution_count": 36,
   "metadata": {
    "metadata": {}
   },
   "outputs": [
    {
     "name": "stdout",
     "output_type": "stream",
     "text": [
      "Mean Accuracy: 0.8836933333333333\n",
      "Soft Voting Accuracy: 0.8876666666666667\n",
      "Hard Voting Accuracy: 0.8876666666666667\n"
     ]
    }
   ],
   "source": [
    "from sklearn.utils import resample\n",
    "\n",
    "# Bootstrapping\n",
    "\n",
    "n_bootstraps = 500\n",
    "accuracy_scores = []\n",
    "all_predicted_probabilities = []\n",
    "\n",
    "for i in range(n_bootstraps):\n",
    "    X_train_bootstrap, y_train_bootstrap = resample(X, y, replace=True, random_state=i)\n",
    "    \n",
    "    model = RandomForestClassifier()\n",
    "    model.fit(X_train_bootstrap, y_train_bootstrap)\n",
    "    \n",
    "    y_pred = model.predict(df_X_test1)\n",
    "    \n",
    "    accuracy = accuracy_score(df_y_test1, y_pred)\n",
    "    accuracy_scores.append(accuracy)\n",
    "    all_predicted_probabilities.append(clf.predict_proba(df_X_test1))\n",
    "\n",
    "# Calculate mean accuracy\n",
    "mean_accuracy = np.mean(accuracy_scores)\n",
    "print(\"Mean Accuracy:\", mean_accuracy)\n",
    "\n",
    "# Perform soft voting\n",
    "soft_voting_predictions = np.mean(all_predicted_probabilities, axis=0)\n",
    "soft_voting_accuracy = accuracy_score(df_y_test1, np.argmax(soft_voting_predictions, axis=1))\n",
    "print(\"Soft Voting Accuracy:\", soft_voting_accuracy)"
   ]
  },
  {
   "cell_type": "code",
   "execution_count": 34,
   "metadata": {
    "metadata": {}
   },
   "outputs": [
    {
     "name": "stdout",
     "output_type": "stream",
     "text": [
      "0.8706666666666667\n"
     ]
    }
   ],
   "source": [
    "# Single random forest \n",
    "\n",
    "model = RandomForestClassifier(random_state=42)\n",
    "model.fit(X, y)\n",
    "\n",
    "y_pred = model.predict(df_X_test1)\n",
    "\n",
    "accuracy = accuracy_score(df_y_test1, y_pred)\n",
    "print(accuracy)"
   ]
  }
 ],
 "metadata": {
  "kernelspec": {
   "display_name": "Python 3",
   "language": "python",
   "name": "python3"
  },
  "language_info": {
   "codemirror_mode": {
    "name": "ipython",
    "version": 3
   },
   "file_extension": ".py",
   "mimetype": "text/x-python",
   "name": "python",
   "nbconvert_exporter": "python",
   "pygments_lexer": "ipython3",
   "version": "3.9.13"
  }
 },
 "nbformat": 4,
 "nbformat_minor": 2
}
